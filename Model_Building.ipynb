{
  "cells": [
    {
      "cell_type": "markdown",
      "metadata": {
        "id": "Y9gUA-jFrAjX"
      },
      "source": [
        "## Loading the Data:"
      ],
      "id": "Y9gUA-jFrAjX"
    },
    {
      "cell_type": "code",
      "execution_count": 35,
      "metadata": {
        "id": "A5FvNehfrAjX"
      },
      "outputs": [],
      "source": [
        "import numpy as np\n",
        "import pandas as pd\n",
        "pd.set_option('display.max_rows',None)\n",
        "pd.set_option('display.max_columns',None)\n",
        "import matplotlib.pyplot as plt\n",
        "import seaborn as sns\n",
        "import os\n",
        "import time\n",
        "import re\n",
        "import sklearn\n",
        "from sklearn.model_selection import train_test_split\n",
        "from sklearn.linear_model import LinearRegression, Lasso, Ridge\n",
        "from sklearn import metrics\n",
        "from scipy import stats\n",
        "import warnings\n",
        "warnings.filterwarnings('ignore')"
      ],
      "id": "A5FvNehfrAjX"
    },
    {
      "cell_type": "code",
      "source": [
        "from google.colab import drive\n",
        "drive.mount('/content/drive')"
      ],
      "metadata": {
        "colab": {
          "base_uri": "https://localhost:8080/"
        },
        "id": "gNSndn7prKhW",
        "outputId": "7edeb8e7-3d41-41be-8a15-ccff83d441ca"
      },
      "id": "gNSndn7prKhW",
      "execution_count": 36,
      "outputs": [
        {
          "output_type": "stream",
          "name": "stdout",
          "text": [
            "Mounted at /content/drive\n"
          ]
        }
      ]
    },
    {
      "cell_type": "code",
      "source": [
        "data = pd.read_excel('/content/drive/MyDrive/ass.1.xlsx')\n",
        "data.head(10)\n",
        "data.shape\n",
        "data.head(10)"
      ],
      "metadata": {
        "colab": {
          "base_uri": "https://localhost:8080/",
          "height": 1000
        },
        "id": "jGuxruYWrV47",
        "outputId": "2bc6dcd6-3a6f-4b59-f50e-6402d5f36ae1"
      },
      "id": "jGuxruYWrV47",
      "execution_count": 38,
      "outputs": [
        {
          "output_type": "execute_result",
          "data": {
            "text/plain": [
              "   article_id                                              title  \\\n",
              "0     7014291                 It's Time for a YouTube Competitor   \n",
              "1     7014327  The Ultimate Roundup of 2014's Biggest April F...   \n",
              "2     7014304  A Selfie and One Garish Jacket: How the Red So...   \n",
              "3     7031995    African Telecom Proposes More Diverse Emoticons   \n",
              "4     6541359  Google to Launch Improved Android Camera App, ...   \n",
              "5     7033985  Apple to Begin iPhone 6 Screen Production in M...   \n",
              "6     7014312       Apple Updates iWork for OS X, iOS and iCloud   \n",
              "7     3299703  Spare Your Facebook Friends From These 9 April...   \n",
              "8     7014271       Why Tech Takes April Fools' Day So Seriously   \n",
              "9     7008095  Atlanta Is World's Busiest Airport With 94 Mil...   \n",
              "\n",
              "                                                text published_date  \\\n",
              "0  It was reported last week that Yahoo is gettin...     2014-03-31   \n",
              "1  April Fools' marks the day when pranking goes ...     2014-04-01   \n",
              "2  The 2013 World Series champion Boston Red Sox ...     2014-04-01   \n",
              "3  Less than a week after Apple pledged to make i...     2014-04-01   \n",
              "4  Android users may soon see a series of new fea...     2014-04-01   \n",
              "5  Whispers surrounding a possible iPhone 6 relea...     2014-04-01   \n",
              "6  Apple updated its iWork suite Tuesday, adding ...     2014-04-01   \n",
              "7  Everybody's a comedian -- at least they think ...     2014-04-01   \n",
              "8  Tech journalists hate April Fools' Day. Not be...     2014-04-01   \n",
              "9  Atlanta's Hartsfield-Jackson airport remained ...     2014-04-01   \n",
              "\n",
              "   unique_tokens_rate  num_hrefs  num_imgs  num_videos  average_token_length  \\\n",
              "0            0.640816          5         3           1              4.579592   \n",
              "1            0.549618          4         1           0              4.636704   \n",
              "2            0.577236          8         1           0              4.627451   \n",
              "3            0.525896          4         1           0              5.083665   \n",
              "4            0.588889          6         9           0              4.336022   \n",
              "5            0.494269          8         1           0              4.360679   \n",
              "6            0.639706          4         1           0              4.594444   \n",
              "7            0.508511         26         8           0              4.713427   \n",
              "8            0.481013          9         3           1              4.374613   \n",
              "9            0.422028         11         1           0              4.272043   \n",
              "\n",
              "   num_keywords data_channel  min_avg_key  max_avg_key  avg_avg_key  \\\n",
              "0             5     Business     1459.500     4817.692     3370.415   \n",
              "1             7         Tech        0.000     3581.094     2556.367   \n",
              "2             7         Tech     2270.889     3852.800     3018.167   \n",
              "3             9         Tech        0.000     3581.094     1871.403   \n",
              "4             7        00000     3581.094     8453.451     5155.323   \n",
              "5             4     Business     3343.790     4817.692     3974.216   \n",
              "6             7    Lifestyle     2499.333     5549.418     3667.217   \n",
              "7             7         Tech     3030.861     4622.544     3761.262   \n",
              "8             8    Lifestyle        0.000     6813.466     3745.055   \n",
              "9             5     Business     3343.790     5585.617     4111.006   \n",
              "\n",
              "   href_avg_shares  global_subjectivity  global_sentiment_polarity  \\\n",
              "0         1833.333             0.403762                   0.038762   \n",
              "1         8500.000             0.410707                   0.180934   \n",
              "2         2076.333             0.397545                   0.044864   \n",
              "3         2200.000             0.491578                   0.157620   \n",
              "4          805.000             0.628535                   0.078497   \n",
              "5        31625.000             0.567866                   0.098980   \n",
              "6         4800.000             0.347222                   0.186111   \n",
              "7         3700.000             0.484539                   0.134520   \n",
              "8        11800.000             0.533060                   0.186324   \n",
              "9         2600.000             0.502861                   0.121931   \n",
              "\n",
              "   global_rate_positive_words  global_rate_negative_words  title_subjectivity  \\\n",
              "0                    0.036735                    0.024490            0.250000   \n",
              "1                    0.044944                    0.003745            0.000000   \n",
              "2                    0.035294                    0.019608            0.000000   \n",
              "3                    0.047809                    0.011952            0.000000   \n",
              "4                    0.053763                    0.034946            0.000000   \n",
              "5                    0.038190                    0.024045            0.666667   \n",
              "6                    0.033333                    0.005556            0.000000   \n",
              "7                    0.050100                    0.026052            0.400000   \n",
              "8                    0.046440                    0.021672            0.066667   \n",
              "9                    0.043011                    0.018280            0.357143   \n",
              "\n",
              "   title_sentiment_polarity  shares  \n",
              "0                  0.250000    1600  \n",
              "1                  0.000000    1500  \n",
              "2                  0.000000    1400  \n",
              "3                  0.000000    1300  \n",
              "4                  0.000000    3000  \n",
              "5                 -0.333330    1600  \n",
              "6                  0.000000    1300  \n",
              "7                 -0.150000    2000  \n",
              "8                  0.033333    2100  \n",
              "9                  0.000000    1100  "
            ],
            "text/html": [
              "\n",
              "  <div id=\"df-8c94b74b-84b1-4c03-8e11-4b0fb911d736\" class=\"colab-df-container\">\n",
              "    <div>\n",
              "<style scoped>\n",
              "    .dataframe tbody tr th:only-of-type {\n",
              "        vertical-align: middle;\n",
              "    }\n",
              "\n",
              "    .dataframe tbody tr th {\n",
              "        vertical-align: top;\n",
              "    }\n",
              "\n",
              "    .dataframe thead th {\n",
              "        text-align: right;\n",
              "    }\n",
              "</style>\n",
              "<table border=\"1\" class=\"dataframe\">\n",
              "  <thead>\n",
              "    <tr style=\"text-align: right;\">\n",
              "      <th></th>\n",
              "      <th>article_id</th>\n",
              "      <th>title</th>\n",
              "      <th>text</th>\n",
              "      <th>published_date</th>\n",
              "      <th>unique_tokens_rate</th>\n",
              "      <th>num_hrefs</th>\n",
              "      <th>num_imgs</th>\n",
              "      <th>num_videos</th>\n",
              "      <th>average_token_length</th>\n",
              "      <th>num_keywords</th>\n",
              "      <th>data_channel</th>\n",
              "      <th>min_avg_key</th>\n",
              "      <th>max_avg_key</th>\n",
              "      <th>avg_avg_key</th>\n",
              "      <th>href_avg_shares</th>\n",
              "      <th>global_subjectivity</th>\n",
              "      <th>global_sentiment_polarity</th>\n",
              "      <th>global_rate_positive_words</th>\n",
              "      <th>global_rate_negative_words</th>\n",
              "      <th>title_subjectivity</th>\n",
              "      <th>title_sentiment_polarity</th>\n",
              "      <th>shares</th>\n",
              "    </tr>\n",
              "  </thead>\n",
              "  <tbody>\n",
              "    <tr>\n",
              "      <th>0</th>\n",
              "      <td>7014291</td>\n",
              "      <td>It's Time for a YouTube Competitor</td>\n",
              "      <td>It was reported last week that Yahoo is gettin...</td>\n",
              "      <td>2014-03-31</td>\n",
              "      <td>0.640816</td>\n",
              "      <td>5</td>\n",
              "      <td>3</td>\n",
              "      <td>1</td>\n",
              "      <td>4.579592</td>\n",
              "      <td>5</td>\n",
              "      <td>Business</td>\n",
              "      <td>1459.500</td>\n",
              "      <td>4817.692</td>\n",
              "      <td>3370.415</td>\n",
              "      <td>1833.333</td>\n",
              "      <td>0.403762</td>\n",
              "      <td>0.038762</td>\n",
              "      <td>0.036735</td>\n",
              "      <td>0.024490</td>\n",
              "      <td>0.250000</td>\n",
              "      <td>0.250000</td>\n",
              "      <td>1600</td>\n",
              "    </tr>\n",
              "    <tr>\n",
              "      <th>1</th>\n",
              "      <td>7014327</td>\n",
              "      <td>The Ultimate Roundup of 2014's Biggest April F...</td>\n",
              "      <td>April Fools' marks the day when pranking goes ...</td>\n",
              "      <td>2014-04-01</td>\n",
              "      <td>0.549618</td>\n",
              "      <td>4</td>\n",
              "      <td>1</td>\n",
              "      <td>0</td>\n",
              "      <td>4.636704</td>\n",
              "      <td>7</td>\n",
              "      <td>Tech</td>\n",
              "      <td>0.000</td>\n",
              "      <td>3581.094</td>\n",
              "      <td>2556.367</td>\n",
              "      <td>8500.000</td>\n",
              "      <td>0.410707</td>\n",
              "      <td>0.180934</td>\n",
              "      <td>0.044944</td>\n",
              "      <td>0.003745</td>\n",
              "      <td>0.000000</td>\n",
              "      <td>0.000000</td>\n",
              "      <td>1500</td>\n",
              "    </tr>\n",
              "    <tr>\n",
              "      <th>2</th>\n",
              "      <td>7014304</td>\n",
              "      <td>A Selfie and One Garish Jacket: How the Red So...</td>\n",
              "      <td>The 2013 World Series champion Boston Red Sox ...</td>\n",
              "      <td>2014-04-01</td>\n",
              "      <td>0.577236</td>\n",
              "      <td>8</td>\n",
              "      <td>1</td>\n",
              "      <td>0</td>\n",
              "      <td>4.627451</td>\n",
              "      <td>7</td>\n",
              "      <td>Tech</td>\n",
              "      <td>2270.889</td>\n",
              "      <td>3852.800</td>\n",
              "      <td>3018.167</td>\n",
              "      <td>2076.333</td>\n",
              "      <td>0.397545</td>\n",
              "      <td>0.044864</td>\n",
              "      <td>0.035294</td>\n",
              "      <td>0.019608</td>\n",
              "      <td>0.000000</td>\n",
              "      <td>0.000000</td>\n",
              "      <td>1400</td>\n",
              "    </tr>\n",
              "    <tr>\n",
              "      <th>3</th>\n",
              "      <td>7031995</td>\n",
              "      <td>African Telecom Proposes More Diverse Emoticons</td>\n",
              "      <td>Less than a week after Apple pledged to make i...</td>\n",
              "      <td>2014-04-01</td>\n",
              "      <td>0.525896</td>\n",
              "      <td>4</td>\n",
              "      <td>1</td>\n",
              "      <td>0</td>\n",
              "      <td>5.083665</td>\n",
              "      <td>9</td>\n",
              "      <td>Tech</td>\n",
              "      <td>0.000</td>\n",
              "      <td>3581.094</td>\n",
              "      <td>1871.403</td>\n",
              "      <td>2200.000</td>\n",
              "      <td>0.491578</td>\n",
              "      <td>0.157620</td>\n",
              "      <td>0.047809</td>\n",
              "      <td>0.011952</td>\n",
              "      <td>0.000000</td>\n",
              "      <td>0.000000</td>\n",
              "      <td>1300</td>\n",
              "    </tr>\n",
              "    <tr>\n",
              "      <th>4</th>\n",
              "      <td>6541359</td>\n",
              "      <td>Google to Launch Improved Android Camera App, ...</td>\n",
              "      <td>Android users may soon see a series of new fea...</td>\n",
              "      <td>2014-04-01</td>\n",
              "      <td>0.588889</td>\n",
              "      <td>6</td>\n",
              "      <td>9</td>\n",
              "      <td>0</td>\n",
              "      <td>4.336022</td>\n",
              "      <td>7</td>\n",
              "      <td>00000</td>\n",
              "      <td>3581.094</td>\n",
              "      <td>8453.451</td>\n",
              "      <td>5155.323</td>\n",
              "      <td>805.000</td>\n",
              "      <td>0.628535</td>\n",
              "      <td>0.078497</td>\n",
              "      <td>0.053763</td>\n",
              "      <td>0.034946</td>\n",
              "      <td>0.000000</td>\n",
              "      <td>0.000000</td>\n",
              "      <td>3000</td>\n",
              "    </tr>\n",
              "    <tr>\n",
              "      <th>5</th>\n",
              "      <td>7033985</td>\n",
              "      <td>Apple to Begin iPhone 6 Screen Production in M...</td>\n",
              "      <td>Whispers surrounding a possible iPhone 6 relea...</td>\n",
              "      <td>2014-04-01</td>\n",
              "      <td>0.494269</td>\n",
              "      <td>8</td>\n",
              "      <td>1</td>\n",
              "      <td>0</td>\n",
              "      <td>4.360679</td>\n",
              "      <td>4</td>\n",
              "      <td>Business</td>\n",
              "      <td>3343.790</td>\n",
              "      <td>4817.692</td>\n",
              "      <td>3974.216</td>\n",
              "      <td>31625.000</td>\n",
              "      <td>0.567866</td>\n",
              "      <td>0.098980</td>\n",
              "      <td>0.038190</td>\n",
              "      <td>0.024045</td>\n",
              "      <td>0.666667</td>\n",
              "      <td>-0.333330</td>\n",
              "      <td>1600</td>\n",
              "    </tr>\n",
              "    <tr>\n",
              "      <th>6</th>\n",
              "      <td>7014312</td>\n",
              "      <td>Apple Updates iWork for OS X, iOS and iCloud</td>\n",
              "      <td>Apple updated its iWork suite Tuesday, adding ...</td>\n",
              "      <td>2014-04-01</td>\n",
              "      <td>0.639706</td>\n",
              "      <td>4</td>\n",
              "      <td>1</td>\n",
              "      <td>0</td>\n",
              "      <td>4.594444</td>\n",
              "      <td>7</td>\n",
              "      <td>Lifestyle</td>\n",
              "      <td>2499.333</td>\n",
              "      <td>5549.418</td>\n",
              "      <td>3667.217</td>\n",
              "      <td>4800.000</td>\n",
              "      <td>0.347222</td>\n",
              "      <td>0.186111</td>\n",
              "      <td>0.033333</td>\n",
              "      <td>0.005556</td>\n",
              "      <td>0.000000</td>\n",
              "      <td>0.000000</td>\n",
              "      <td>1300</td>\n",
              "    </tr>\n",
              "    <tr>\n",
              "      <th>7</th>\n",
              "      <td>3299703</td>\n",
              "      <td>Spare Your Facebook Friends From These 9 April...</td>\n",
              "      <td>Everybody's a comedian -- at least they think ...</td>\n",
              "      <td>2014-04-01</td>\n",
              "      <td>0.508511</td>\n",
              "      <td>26</td>\n",
              "      <td>8</td>\n",
              "      <td>0</td>\n",
              "      <td>4.713427</td>\n",
              "      <td>7</td>\n",
              "      <td>Tech</td>\n",
              "      <td>3030.861</td>\n",
              "      <td>4622.544</td>\n",
              "      <td>3761.262</td>\n",
              "      <td>3700.000</td>\n",
              "      <td>0.484539</td>\n",
              "      <td>0.134520</td>\n",
              "      <td>0.050100</td>\n",
              "      <td>0.026052</td>\n",
              "      <td>0.400000</td>\n",
              "      <td>-0.150000</td>\n",
              "      <td>2000</td>\n",
              "    </tr>\n",
              "    <tr>\n",
              "      <th>8</th>\n",
              "      <td>7014271</td>\n",
              "      <td>Why Tech Takes April Fools' Day So Seriously</td>\n",
              "      <td>Tech journalists hate April Fools' Day. Not be...</td>\n",
              "      <td>2014-04-01</td>\n",
              "      <td>0.481013</td>\n",
              "      <td>9</td>\n",
              "      <td>3</td>\n",
              "      <td>1</td>\n",
              "      <td>4.374613</td>\n",
              "      <td>8</td>\n",
              "      <td>Lifestyle</td>\n",
              "      <td>0.000</td>\n",
              "      <td>6813.466</td>\n",
              "      <td>3745.055</td>\n",
              "      <td>11800.000</td>\n",
              "      <td>0.533060</td>\n",
              "      <td>0.186324</td>\n",
              "      <td>0.046440</td>\n",
              "      <td>0.021672</td>\n",
              "      <td>0.066667</td>\n",
              "      <td>0.033333</td>\n",
              "      <td>2100</td>\n",
              "    </tr>\n",
              "    <tr>\n",
              "      <th>9</th>\n",
              "      <td>7008095</td>\n",
              "      <td>Atlanta Is World's Busiest Airport With 94 Mil...</td>\n",
              "      <td>Atlanta's Hartsfield-Jackson airport remained ...</td>\n",
              "      <td>2014-04-01</td>\n",
              "      <td>0.422028</td>\n",
              "      <td>11</td>\n",
              "      <td>1</td>\n",
              "      <td>0</td>\n",
              "      <td>4.272043</td>\n",
              "      <td>5</td>\n",
              "      <td>Business</td>\n",
              "      <td>3343.790</td>\n",
              "      <td>5585.617</td>\n",
              "      <td>4111.006</td>\n",
              "      <td>2600.000</td>\n",
              "      <td>0.502861</td>\n",
              "      <td>0.121931</td>\n",
              "      <td>0.043011</td>\n",
              "      <td>0.018280</td>\n",
              "      <td>0.357143</td>\n",
              "      <td>0.000000</td>\n",
              "      <td>1100</td>\n",
              "    </tr>\n",
              "  </tbody>\n",
              "</table>\n",
              "</div>\n",
              "    <div class=\"colab-df-buttons\">\n",
              "\n",
              "  <div class=\"colab-df-container\">\n",
              "    <button class=\"colab-df-convert\" onclick=\"convertToInteractive('df-8c94b74b-84b1-4c03-8e11-4b0fb911d736')\"\n",
              "            title=\"Convert this dataframe to an interactive table.\"\n",
              "            style=\"display:none;\">\n",
              "\n",
              "  <svg xmlns=\"http://www.w3.org/2000/svg\" height=\"24px\" viewBox=\"0 -960 960 960\">\n",
              "    <path d=\"M120-120v-720h720v720H120Zm60-500h600v-160H180v160Zm220 220h160v-160H400v160Zm0 220h160v-160H400v160ZM180-400h160v-160H180v160Zm440 0h160v-160H620v160ZM180-180h160v-160H180v160Zm440 0h160v-160H620v160Z\"/>\n",
              "  </svg>\n",
              "    </button>\n",
              "\n",
              "  <style>\n",
              "    .colab-df-container {\n",
              "      display:flex;\n",
              "      gap: 12px;\n",
              "    }\n",
              "\n",
              "    .colab-df-convert {\n",
              "      background-color: #E8F0FE;\n",
              "      border: none;\n",
              "      border-radius: 50%;\n",
              "      cursor: pointer;\n",
              "      display: none;\n",
              "      fill: #1967D2;\n",
              "      height: 32px;\n",
              "      padding: 0 0 0 0;\n",
              "      width: 32px;\n",
              "    }\n",
              "\n",
              "    .colab-df-convert:hover {\n",
              "      background-color: #E2EBFA;\n",
              "      box-shadow: 0px 1px 2px rgba(60, 64, 67, 0.3), 0px 1px 3px 1px rgba(60, 64, 67, 0.15);\n",
              "      fill: #174EA6;\n",
              "    }\n",
              "\n",
              "    .colab-df-buttons div {\n",
              "      margin-bottom: 4px;\n",
              "    }\n",
              "\n",
              "    [theme=dark] .colab-df-convert {\n",
              "      background-color: #3B4455;\n",
              "      fill: #D2E3FC;\n",
              "    }\n",
              "\n",
              "    [theme=dark] .colab-df-convert:hover {\n",
              "      background-color: #434B5C;\n",
              "      box-shadow: 0px 1px 3px 1px rgba(0, 0, 0, 0.15);\n",
              "      filter: drop-shadow(0px 1px 2px rgba(0, 0, 0, 0.3));\n",
              "      fill: #FFFFFF;\n",
              "    }\n",
              "  </style>\n",
              "\n",
              "    <script>\n",
              "      const buttonEl =\n",
              "        document.querySelector('#df-8c94b74b-84b1-4c03-8e11-4b0fb911d736 button.colab-df-convert');\n",
              "      buttonEl.style.display =\n",
              "        google.colab.kernel.accessAllowed ? 'block' : 'none';\n",
              "\n",
              "      async function convertToInteractive(key) {\n",
              "        const element = document.querySelector('#df-8c94b74b-84b1-4c03-8e11-4b0fb911d736');\n",
              "        const dataTable =\n",
              "          await google.colab.kernel.invokeFunction('convertToInteractive',\n",
              "                                                    [key], {});\n",
              "        if (!dataTable) return;\n",
              "\n",
              "        const docLinkHtml = 'Like what you see? Visit the ' +\n",
              "          '<a target=\"_blank\" href=https://colab.research.google.com/notebooks/data_table.ipynb>data table notebook</a>'\n",
              "          + ' to learn more about interactive tables.';\n",
              "        element.innerHTML = '';\n",
              "        dataTable['output_type'] = 'display_data';\n",
              "        await google.colab.output.renderOutput(dataTable, element);\n",
              "        const docLink = document.createElement('div');\n",
              "        docLink.innerHTML = docLinkHtml;\n",
              "        element.appendChild(docLink);\n",
              "      }\n",
              "    </script>\n",
              "  </div>\n",
              "\n",
              "\n",
              "<div id=\"df-3e6bb9ae-2f5f-4a1e-b5a5-57c74a96873a\">\n",
              "  <button class=\"colab-df-quickchart\" onclick=\"quickchart('df-3e6bb9ae-2f5f-4a1e-b5a5-57c74a96873a')\"\n",
              "            title=\"Suggest charts\"\n",
              "            style=\"display:none;\">\n",
              "\n",
              "<svg xmlns=\"http://www.w3.org/2000/svg\" height=\"24px\"viewBox=\"0 0 24 24\"\n",
              "     width=\"24px\">\n",
              "    <g>\n",
              "        <path d=\"M19 3H5c-1.1 0-2 .9-2 2v14c0 1.1.9 2 2 2h14c1.1 0 2-.9 2-2V5c0-1.1-.9-2-2-2zM9 17H7v-7h2v7zm4 0h-2V7h2v10zm4 0h-2v-4h2v4z\"/>\n",
              "    </g>\n",
              "</svg>\n",
              "  </button>\n",
              "\n",
              "<style>\n",
              "  .colab-df-quickchart {\n",
              "      --bg-color: #E8F0FE;\n",
              "      --fill-color: #1967D2;\n",
              "      --hover-bg-color: #E2EBFA;\n",
              "      --hover-fill-color: #174EA6;\n",
              "      --disabled-fill-color: #AAA;\n",
              "      --disabled-bg-color: #DDD;\n",
              "  }\n",
              "\n",
              "  [theme=dark] .colab-df-quickchart {\n",
              "      --bg-color: #3B4455;\n",
              "      --fill-color: #D2E3FC;\n",
              "      --hover-bg-color: #434B5C;\n",
              "      --hover-fill-color: #FFFFFF;\n",
              "      --disabled-bg-color: #3B4455;\n",
              "      --disabled-fill-color: #666;\n",
              "  }\n",
              "\n",
              "  .colab-df-quickchart {\n",
              "    background-color: var(--bg-color);\n",
              "    border: none;\n",
              "    border-radius: 50%;\n",
              "    cursor: pointer;\n",
              "    display: none;\n",
              "    fill: var(--fill-color);\n",
              "    height: 32px;\n",
              "    padding: 0;\n",
              "    width: 32px;\n",
              "  }\n",
              "\n",
              "  .colab-df-quickchart:hover {\n",
              "    background-color: var(--hover-bg-color);\n",
              "    box-shadow: 0 1px 2px rgba(60, 64, 67, 0.3), 0 1px 3px 1px rgba(60, 64, 67, 0.15);\n",
              "    fill: var(--button-hover-fill-color);\n",
              "  }\n",
              "\n",
              "  .colab-df-quickchart-complete:disabled,\n",
              "  .colab-df-quickchart-complete:disabled:hover {\n",
              "    background-color: var(--disabled-bg-color);\n",
              "    fill: var(--disabled-fill-color);\n",
              "    box-shadow: none;\n",
              "  }\n",
              "\n",
              "  .colab-df-spinner {\n",
              "    border: 2px solid var(--fill-color);\n",
              "    border-color: transparent;\n",
              "    border-bottom-color: var(--fill-color);\n",
              "    animation:\n",
              "      spin 1s steps(1) infinite;\n",
              "  }\n",
              "\n",
              "  @keyframes spin {\n",
              "    0% {\n",
              "      border-color: transparent;\n",
              "      border-bottom-color: var(--fill-color);\n",
              "      border-left-color: var(--fill-color);\n",
              "    }\n",
              "    20% {\n",
              "      border-color: transparent;\n",
              "      border-left-color: var(--fill-color);\n",
              "      border-top-color: var(--fill-color);\n",
              "    }\n",
              "    30% {\n",
              "      border-color: transparent;\n",
              "      border-left-color: var(--fill-color);\n",
              "      border-top-color: var(--fill-color);\n",
              "      border-right-color: var(--fill-color);\n",
              "    }\n",
              "    40% {\n",
              "      border-color: transparent;\n",
              "      border-right-color: var(--fill-color);\n",
              "      border-top-color: var(--fill-color);\n",
              "    }\n",
              "    60% {\n",
              "      border-color: transparent;\n",
              "      border-right-color: var(--fill-color);\n",
              "    }\n",
              "    80% {\n",
              "      border-color: transparent;\n",
              "      border-right-color: var(--fill-color);\n",
              "      border-bottom-color: var(--fill-color);\n",
              "    }\n",
              "    90% {\n",
              "      border-color: transparent;\n",
              "      border-bottom-color: var(--fill-color);\n",
              "    }\n",
              "  }\n",
              "</style>\n",
              "\n",
              "  <script>\n",
              "    async function quickchart(key) {\n",
              "      const quickchartButtonEl =\n",
              "        document.querySelector('#' + key + ' button');\n",
              "      quickchartButtonEl.disabled = true;  // To prevent multiple clicks.\n",
              "      quickchartButtonEl.classList.add('colab-df-spinner');\n",
              "      try {\n",
              "        const charts = await google.colab.kernel.invokeFunction(\n",
              "            'suggestCharts', [key], {});\n",
              "      } catch (error) {\n",
              "        console.error('Error during call to suggestCharts:', error);\n",
              "      }\n",
              "      quickchartButtonEl.classList.remove('colab-df-spinner');\n",
              "      quickchartButtonEl.classList.add('colab-df-quickchart-complete');\n",
              "    }\n",
              "    (() => {\n",
              "      let quickchartButtonEl =\n",
              "        document.querySelector('#df-3e6bb9ae-2f5f-4a1e-b5a5-57c74a96873a button');\n",
              "      quickchartButtonEl.style.display =\n",
              "        google.colab.kernel.accessAllowed ? 'block' : 'none';\n",
              "    })();\n",
              "  </script>\n",
              "</div>\n",
              "    </div>\n",
              "  </div>\n"
            ]
          },
          "metadata": {},
          "execution_count": 38
        }
      ]
    },
    {
      "cell_type": "code",
      "source": [
        "df = data.copy()"
      ],
      "metadata": {
        "id": "uSs4QouDtIJO"
      },
      "id": "uSs4QouDtIJO",
      "execution_count": 39,
      "outputs": []
    },
    {
      "cell_type": "code",
      "source": [
        "df['article_length'] = df['text'].apply(len)\n",
        "df['published_day'] = pd.to_datetime(df['published_date']).dt.day_name()"
      ],
      "metadata": {
        "id": "bJEhOmgjv4ft"
      },
      "id": "bJEhOmgjv4ft",
      "execution_count": 40,
      "outputs": []
    },
    {
      "cell_type": "code",
      "source": [
        "from sklearn.preprocessing import StandardScaler\n",
        "scaler = StandardScaler()\n",
        "numerical_cols = ['unique_tokens_rate', 'num_hrefs', 'num_imgs', 'num_videos', 'average_token_length', 'article_length']\n",
        "df[numerical_cols] = scaler.fit_transform(df[numerical_cols])"
      ],
      "metadata": {
        "id": "x92z9WvAv9il"
      },
      "id": "x92z9WvAv9il",
      "execution_count": 41,
      "outputs": []
    },
    {
      "cell_type": "code",
      "source": [
        "# Dropping 'title' and 'text' columns\n",
        "df = df.drop(['title', 'text', 'data_channel'], axis=1)\n",
        "# Splitting the dataset into features and target variable\n",
        "X = df.drop('shares', axis=1)\n",
        "y = df['shares']\n",
        "x_train, x_test, y_train, y_test = train_test_split(X, y, test_size=0.2, random_state=42)"
      ],
      "metadata": {
        "id": "_6AO83iYtlm1"
      },
      "id": "_6AO83iYtlm1",
      "execution_count": 42,
      "outputs": []
    },
    {
      "cell_type": "code",
      "source": [
        "x_train['published_date'] = pd.to_datetime(x_train['published_date'])\n",
        "x_test['published_date'] = pd.to_datetime(x_test['published_date'])\n",
        "x_train['day_of_week'] = x_train['published_date'].dt.dayofweek\n",
        "x_train['quarter'] = x_train['published_date'].dt.quarter\n",
        "x_test['day_of_week'] = x_test['published_date'].dt.dayofweek\n",
        "x_test['quarter'] = x_test['published_date'].dt.quarter"
      ],
      "metadata": {
        "id": "bepd3z1Iuclk"
      },
      "id": "bepd3z1Iuclk",
      "execution_count": 43,
      "outputs": []
    },
    {
      "cell_type": "code",
      "source": [
        "non_numeric_columns = x_train.select_dtypes(exclude=['number']).columns\n",
        "print(\"Non-numeric columns:\", non_numeric_columns)"
      ],
      "metadata": {
        "colab": {
          "base_uri": "https://localhost:8080/"
        },
        "id": "yfL1EJsmuqYX",
        "outputId": "e14c5019-9a1e-4053-e668-2f7e1dda87b1"
      },
      "id": "yfL1EJsmuqYX",
      "execution_count": 44,
      "outputs": [
        {
          "output_type": "stream",
          "name": "stdout",
          "text": [
            "Non-numeric columns: Index(['published_date', 'published_day'], dtype='object')\n"
          ]
        }
      ]
    },
    {
      "cell_type": "code",
      "source": [
        "x_train = x_train.drop(non_numeric_columns, axis=1)\n",
        "x_test = x_test.drop(non_numeric_columns, axis=1)"
      ],
      "metadata": {
        "id": "M8Hh0kh7vCYX"
      },
      "id": "M8Hh0kh7vCYX",
      "execution_count": 45,
      "outputs": []
    },
    {
      "cell_type": "code",
      "source": [
        "import numpy as np\n",
        "print(\"Infinity values in x_train:\", np.any(np.isinf(x_train)))\n",
        "print(\"Large values in x_train:\", np.any(np.abs(x_train) > 1e15))\n",
        "print(\"Infinity values in y_train:\", np.any(np.isinf(y_train)))\n",
        "print(\"Large values in y_train:\", np.any(np.abs(y_train) > 1e15))"
      ],
      "metadata": {
        "colab": {
          "base_uri": "https://localhost:8080/"
        },
        "id": "3KurOZTaxESd",
        "outputId": "ab8b9c99-ae73-4b08-ea2e-0f87639b3544"
      },
      "id": "3KurOZTaxESd",
      "execution_count": 46,
      "outputs": [
        {
          "output_type": "stream",
          "name": "stdout",
          "text": [
            "Infinity values in x_train: False\n",
            "Large values in x_train: False\n",
            "Infinity values in y_train: False\n",
            "Large values in y_train: False\n"
          ]
        }
      ]
    },
    {
      "cell_type": "code",
      "source": [
        "# Replace large values with a reasonable value\n",
        "x_train[np.abs(x_train) > 1e15] = np.nan\n",
        "x_train = np.nan_to_num(x_train)"
      ],
      "metadata": {
        "id": "O4fKr4NuxNc9"
      },
      "id": "O4fKr4NuxNc9",
      "execution_count": 47,
      "outputs": []
    },
    {
      "cell_type": "code",
      "source": [
        "x_test[np.abs(x_test) > 1e15] = np.nan\n",
        "x_test = np.nan_to_num(x_test)"
      ],
      "metadata": {
        "id": "Ny6-Gyg9xtnV"
      },
      "id": "Ny6-Gyg9xtnV",
      "execution_count": 49,
      "outputs": []
    },
    {
      "cell_type": "markdown",
      "metadata": {
        "id": "56Ns6J__rAjb"
      },
      "source": [
        "## Models:"
      ],
      "id": "56Ns6J__rAjb"
    },
    {
      "cell_type": "markdown",
      "metadata": {
        "id": "7XiShJy5rAjb"
      },
      "source": [
        "### Linear Regression:"
      ],
      "id": "7XiShJy5rAjb"
    },
    {
      "cell_type": "code",
      "execution_count": 51,
      "metadata": {
        "colab": {
          "base_uri": "https://localhost:8080/"
        },
        "id": "00dssXRQrAjb",
        "outputId": "1965ad2b-b23f-434a-b72d-41306e162600"
      },
      "outputs": [
        {
          "output_type": "stream",
          "name": "stdout",
          "text": [
            "Training R2 score: 0.0714657238785894\n"
          ]
        }
      ],
      "source": [
        "# Model training\n",
        "from sklearn.linear_model import LinearRegression\n",
        "linear_reg = LinearRegression()\n",
        "linear_reg.fit(x_train,y_train)\n",
        "print(\"Training R2 score: \"+ str(linear_reg.score(x_train,y_train)))"
      ],
      "id": "00dssXRQrAjb"
    },
    {
      "cell_type": "code",
      "execution_count": 52,
      "metadata": {
        "colab": {
          "base_uri": "https://localhost:8080/"
        },
        "id": "5yZY7YmurAjc",
        "outputId": "f70504cb-c37a-41f7-c8cb-db3f0605f912"
      },
      "outputs": [
        {
          "output_type": "stream",
          "name": "stdout",
          "text": [
            "Test R2 score: -0.003859443694981479\n",
            "Test MAE: 6608.183365531114\n",
            "Test RMSE: 46736.54506987125\n"
          ]
        }
      ],
      "source": [
        "# Predicting on the test and evaluating the accuracy\n",
        "preds_lr = linear_reg.predict(x_test)\n",
        "print(\"Test R2 score: \"+ str(metrics.r2_score(y_test,preds_lr)))\n",
        "print(\"Test MAE: \"+ str(metrics.mean_absolute_error(y_test,preds_lr)))\n",
        "print(\"Test RMSE: \"+ str(np.sqrt(metrics.mean_squared_error(y_test,preds_lr))))"
      ],
      "id": "5yZY7YmurAjc"
    },
    {
      "cell_type": "code",
      "execution_count": 53,
      "metadata": {
        "colab": {
          "base_uri": "https://localhost:8080/",
          "height": 465
        },
        "id": "WA1B6uzLrAjc",
        "outputId": "1f59ca3f-598f-4d5e-f371-a7ca76fff31b"
      },
      "outputs": [
        {
          "output_type": "display_data",
          "data": {
            "text/plain": [
              "<Figure size 800x500 with 1 Axes>"
            ],
            "image/png": "[encoded data removed]"
          },
          "metadata": {}
        }
      ],
      "source": [
        "# Plotting the predicted and actual data\n",
        "plt.figure(figsize=(8,5))\n",
        "plt.scatter(y_test,preds_lr)\n",
        "plt.xlabel(\"Actual\")\n",
        "plt.ylabel(\"Predicted\")\n",
        "plt.show()"
      ],
      "id": "WA1B6uzLrAjc"
    },
    {
      "cell_type": "markdown",
      "metadata": {
        "id": "B1rmuvkqrAjg"
      },
      "source": [
        "### Ridge Regression: (L2 Regularization)"
      ],
      "id": "B1rmuvkqrAjg"
    },
    {
      "cell_type": "code",
      "execution_count": 54,
      "metadata": {
        "colab": {
          "base_uri": "https://localhost:8080/"
        },
        "id": "BOf9OmFsrAjp",
        "outputId": "9c52d693-5567-4de3-e82f-6e1d6b7b5f76"
      },
      "outputs": [
        {
          "output_type": "stream",
          "name": "stdout",
          "text": [
            "Training R2 score: 0.06717067875951688\n"
          ]
        }
      ],
      "source": [
        "# Model training\n",
        "from sklearn.linear_model import Ridge\n",
        "ridge = Ridge()\n",
        "ridge.fit(x_train,y_train)\n",
        "print(\"Training R2 score: \"+ str(ridge.score(x_train,y_train)))"
      ],
      "id": "BOf9OmFsrAjp"
    },
    {
      "cell_type": "code",
      "execution_count": 55,
      "metadata": {
        "colab": {
          "base_uri": "https://localhost:8080/"
        },
        "id": "QDK1mBMmrAjp",
        "outputId": "420dfaa6-67fe-44e4-e96f-5a1986d31c4b"
      },
      "outputs": [
        {
          "output_type": "stream",
          "name": "stdout",
          "text": [
            "Test R2 score: -0.002592020141783058\n",
            "Test MAE: 6537.2508509288455\n",
            "Test RMSE: 46707.032120125325\n"
          ]
        }
      ],
      "source": [
        "# Predicting on the test and evaluating the accuracy\n",
        "preds_rid = ridge.predict(x_test)\n",
        "\n",
        "print(\"Test R2 score: \"+ str(metrics.r2_score(y_test,preds_rid)))\n",
        "print(\"Test MAE: \"+ str(metrics.mean_absolute_error(y_test,preds_rid)))\n",
        "print(\"Test RMSE: \"+ str(np.sqrt(metrics.mean_squared_error(y_test,preds_rid))))"
      ],
      "id": "QDK1mBMmrAjp"
    },
    {
      "cell_type": "code",
      "execution_count": 56,
      "metadata": {
        "colab": {
          "base_uri": "https://localhost:8080/",
          "height": 465
        },
        "id": "la-KkAb8rAjq",
        "outputId": "cb520ef6-e26a-4664-8899-7a6c1cfdcd03"
      },
      "outputs": [
        {
          "output_type": "display_data",
          "data": {
            "text/plain": [
              "<Figure size 800x500 with 1 Axes>"
            ],
            "image/png": "[encoded data removed]"
          },
          "metadata": {}
        }
      ],
      "source": [
        "# Plotting the predicted and actual data\n",
        "plt.figure(figsize=(8,5))\n",
        "plt.scatter(y_test,preds_rid)\n",
        "plt.xlabel(\"Actual\")\n",
        "plt.ylabel(\"Predicted\")\n",
        "plt.show()"
      ],
      "id": "la-KkAb8rAjq"
    },
    {
      "cell_type": "markdown",
      "metadata": {
        "id": "AvESVZbWrAjr"
      },
      "source": [
        "### Lasso Regression: (L1 Regularization)"
      ],
      "id": "AvESVZbWrAjr"
    },
    {
      "cell_type": "code",
      "execution_count": 57,
      "metadata": {
        "colab": {
          "base_uri": "https://localhost:8080/"
        },
        "id": "klKfE8FyrAjr",
        "outputId": "3afcf2e7-6fa2-4a38-df55-39daf15b1ead"
      },
      "outputs": [
        {
          "output_type": "stream",
          "name": "stdout",
          "text": [
            "Training R2 score: 0.0709605425454537\n"
          ]
        }
      ],
      "source": [
        "# Model training\n",
        "from sklearn.linear_model import Lasso\n",
        "las = Lasso()\n",
        "las.fit(x_train,y_train)\n",
        "print(\"Training R2 score: \"+ str(las.score(x_train,y_train)))"
      ],
      "id": "klKfE8FyrAjr"
    },
    {
      "cell_type": "code",
      "execution_count": 58,
      "metadata": {
        "colab": {
          "base_uri": "https://localhost:8080/"
        },
        "id": "ccWmlE7jrAjr",
        "outputId": "b74c3a46-304d-4e67-e0fb-01dcee0230c9"
      },
      "outputs": [
        {
          "output_type": "stream",
          "name": "stdout",
          "text": [
            "Test R2 score: -0.0031790760124332795\n",
            "Test MAE: 6577.041932625829\n",
            "Test RMSE: 46720.704493443576\n"
          ]
        }
      ],
      "source": [
        "# Predicting on the test and evaluating the accuracy\n",
        "preds_las = las.predict(x_test).reshape(-1,1)\n",
        "print(\"Test R2 score: \"+ str(metrics.r2_score(y_test,preds_las)))\n",
        "print(\"Test MAE: \"+ str(metrics.mean_absolute_error(y_test,preds_las)))\n",
        "print(\"Test RMSE: \"+ str(np.sqrt(metrics.mean_squared_error(y_test,preds_las))))"
      ],
      "id": "ccWmlE7jrAjr"
    },
    {
      "cell_type": "code",
      "execution_count": 59,
      "metadata": {
        "colab": {
          "base_uri": "https://localhost:8080/",
          "height": 465
        },
        "id": "9vHWBG_drAjs",
        "outputId": "29ae4b8d-103c-40c8-a6bf-7b36323443e0"
      },
      "outputs": [
        {
          "output_type": "display_data",
          "data": {
            "text/plain": [
              "<Figure size 800x500 with 1 Axes>"
            ],
            "image/png": "[encoded data removed]"
          },
          "metadata": {}
        }
      ],
      "source": [
        "# Plotting the predicted and actual data\n",
        "plt.figure(figsize=(8,5))\n",
        "plt.scatter(y_test,preds_las)\n",
        "plt.xlabel(\"Actual\")\n",
        "plt.ylabel(\"Predicted\")\n",
        "plt.show()"
      ],
      "id": "9vHWBG_drAjs"
    },
    {
      "cell_type": "markdown",
      "metadata": {
        "id": "a_-Z1yplrAjt"
      },
      "source": [
        "## Ensemble:"
      ],
      "id": "a_-Z1yplrAjt"
    },
    {
      "cell_type": "code",
      "execution_count": 60,
      "metadata": {
        "colab": {
          "base_uri": "https://localhost:8080/"
        },
        "id": "8gphKlY1rAjt",
        "outputId": "e62df9be-0a69-43c3-fd65-0414d18139b4"
      },
      "outputs": [
        {
          "output_type": "stream",
          "name": "stdout",
          "text": [
            "Training R2 score: 0.07063198549866101\n"
          ]
        }
      ],
      "source": [
        "# Model training\n",
        "from sklearn.ensemble import VotingRegressor\n",
        "estimators = [('lr',linear_reg),('rid',ridge),('lasso',las)]\n",
        "voting_ensemble = VotingRegressor(estimators,)\n",
        "voting_ensemble.fit(x_train,y_train)\n",
        "print(\"Training R2 score: \"+ str(voting_ensemble.score(x_train,y_train)))"
      ],
      "id": "8gphKlY1rAjt"
    },
    {
      "cell_type": "code",
      "execution_count": 61,
      "metadata": {
        "colab": {
          "base_uri": "https://localhost:8080/"
        },
        "id": "jJSTCYtUrAjt",
        "outputId": "840418a4-2697-4056-a694-46b92e5b3a0f"
      },
      "outputs": [
        {
          "output_type": "stream",
          "name": "stdout",
          "text": [
            "Test R2 score: -0.0031837522618851644\n",
            "Test MAE: 6561.314816873202\n",
            "Test RMSE: 46720.81338597304\n"
          ]
        }
      ],
      "source": [
        "# Predicting on the test and evaluating the accuracy\n",
        "preds_vote = voting_ensemble.predict(x_test)\n",
        "print(\"Test R2 score: \"+ str(metrics.r2_score(y_test,preds_vote)))\n",
        "print(\"Test MAE: \"+ str(metrics.mean_absolute_error(y_test,preds_vote)))\n",
        "print(\"Test RMSE: \"+ str(np.sqrt(metrics.mean_squared_error(y_test,preds_vote))))"
      ],
      "id": "jJSTCYtUrAjt"
    },
    {
      "cell_type": "code",
      "execution_count": 62,
      "metadata": {
        "colab": {
          "base_uri": "https://localhost:8080/",
          "height": 465
        },
        "id": "I7aRSylXrAjt",
        "outputId": "f7bcdf5d-3596-476c-87bc-c0e1a9427eed"
      },
      "outputs": [
        {
          "output_type": "display_data",
          "data": {
            "text/plain": [
              "<Figure size 800x500 with 1 Axes>"
            ],
            "image/png": "[encoded data removed]"
          },
          "metadata": {}
        }
      ],
      "source": [
        "# Plotting the predicted and actual data\n",
        "plt.figure(figsize=(8,5))\n",
        "plt.scatter(y_test,preds_vote)\n",
        "plt.xlabel(\"Actual\")\n",
        "plt.ylabel(\"Predicted\")\n",
        "plt.show()"
      ],
      "id": "I7aRSylXrAjt"
    }
  ],
  "metadata": {
    "kernelspec": {
      "display_name": "Python 3.8.5 ('base')",
      "language": "python",
      "name": "python3"
    },
    "language_info": {
      "codemirror_mode": {
        "name": "ipython",
        "version": 3
      },
      "file_extension": ".py",
      "mimetype": "text/x-python",
      "name": "python",
      "nbconvert_exporter": "python",
      "pygments_lexer": "ipython3",
      "version": "3.8.5"
    },
    "vscode": {
      "interpreter": {
        "hash": "7e8cbc31db87ef66faa56dc0153a3cc0cf513f996ecefcaa36993899447d62a6"
      }
    },
    "colab": {
      "provenance": []
    }
  },
  "nbformat": 4,
  "nbformat_minor": 5
}